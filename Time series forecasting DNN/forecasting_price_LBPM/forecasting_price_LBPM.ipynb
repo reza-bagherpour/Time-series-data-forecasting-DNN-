{
  "nbformat": 4,
  "nbformat_minor": 0,
  "metadata": {
    "colab": {
      "name": "forecasting_price_LBPM.ipynb",
      "version": "0.3.2",
      "provenance": [],
      "collapsed_sections": []
    },
    "kernelspec": {
      "name": "python3",
      "display_name": "Python 3"
    }
  },
  "cells": [
    {
      "cell_type": "code",
      "metadata": {
        "id": "dbFL6pVrBTs2",
        "colab_type": "code",
        "colab": {}
      },
      "source": [
        "import numpy as np\n",
        "import warnings\n",
        "import pandas as pd\n",
        "import math\n",
        "from pandas import read_csv,DataFrame\n",
        "import matplotlib.pyplot as plt\n",
        "from sklearn.preprocessing import MinMaxScaler,StandardScaler\n",
        "from sklearn.metrics import mean_squared_error,mean_absolute_error\n",
        "\n",
        "dataframe = read_csv('LBMP_14_15.csv',header=None)#hour_data\n",
        "\n",
        " "
      ],
      "execution_count": 0,
      "outputs": []
    },
    {
      "cell_type": "code",
      "metadata": {
        "id": "zDjHb4JhCNUs",
        "colab_type": "code",
        "colab": {}
      },
      "source": [
        "dataframe = dataframe[1:][1]\n",
        "dataset = dataframe.copy(deep=True)"
      ],
      "execution_count": 0,
      "outputs": []
    },
    {
      "cell_type": "code",
      "metadata": {
        "id": "oAGSZJvWCDBF",
        "colab_type": "code",
        "colab": {}
      },
      "source": [
        "def create_dataset(dataset,look_back):\n",
        "    dataX,dataY=[],[]\n",
        "    for i in range(len(dataset)-look_back):\n",
        "        a=dataset[i:(i+look_back),0]\n",
        "        dataX.append(a)\n",
        "        dataY.append(dataset[i+look_back,0])\n",
        "    return np.array(dataX),np.array(dataY)"
      ],
      "execution_count": 0,
      "outputs": []
    },
    {
      "cell_type": "code",
      "metadata": {
        "id": "aM1NLkPECIU9",
        "colab_type": "code",
        "outputId": "67641250-aa86-4443-9cbd-8b1444195b4a",
        "colab": {
          "base_uri": "https://localhost:8080/",
          "height": 68
        }
      },
      "source": [
        "#def train_test(dataset, look_back):\n",
        "dataset = dataframe[1:]\n",
        "look_back=12\n",
        "dataset=dataset.values\n",
        "dataset = dataset.reshape(-1,1)\n",
        "print(dataset.shape)\n",
        "dataset=dataset.astype('float32')\n",
        "scaler=StandardScaler(copy=True,with_mean=True,with_std=True)\n",
        "dataset=scaler.fit_transform(dataset)\n",
        "train,test=dataset[:8760:],dataset[8760:,:]\n",
        "#reshape into X=t,Y=t+1,X\n",
        "#look_back=12\n",
        "trainX,trainY=create_dataset(train,look_back)\n",
        "testX,testY=create_dataset(test,look_back)\n",
        "print('befor:', trainX.shape)\n",
        "#print(len(testY))\n",
        "trainX=np.reshape(trainX,(trainX.shape[0],trainX.shape[1],1))\n",
        "print('after reshape:', trainX.shape)\n",
        "testX=np.reshape(testX,(testX.shape[0],testX.shape[1],1))\n"
      ],
      "execution_count": 0,
      "outputs": [
        {
          "output_type": "stream",
          "text": [
            "(17519, 1)\n",
            "befor: (8748, 12)\n",
            "after reshape: (8748, 12, 1)\n"
          ],
          "name": "stdout"
        }
      ]
    },
    {
      "cell_type": "code",
      "metadata": {
        "id": "k72d2Ccun4dw",
        "colab_type": "code",
        "outputId": "75d649dd-7a14-4bca-f37d-9c2e5e00b7aa",
        "colab": {
          "base_uri": "https://localhost:8080/",
          "height": 119
        }
      },
      "source": [
        "dataframe[8755:8760]"
      ],
      "execution_count": 0,
      "outputs": [
        {
          "output_type": "execute_result",
          "data": {
            "text/plain": [
              "8756    51.37\n",
              "8757     49.3\n",
              "8758     43.5\n",
              "8759    41.48\n",
              "8760    43.05\n",
              "Name: 1, dtype: object"
            ]
          },
          "metadata": {
            "tags": []
          },
          "execution_count": 34
        }
      ]
    },
    {
      "cell_type": "code",
      "metadata": {
        "id": "LH9OtBVRCqCu",
        "colab_type": "code",
        "colab": {}
      },
      "source": [
        "trainX, trainY, testX, testY = trainX, trainY, testX, testY"
      ],
      "execution_count": 0,
      "outputs": []
    },
    {
      "cell_type": "code",
      "metadata": {
        "id": "dhZEdwWfGkwn",
        "colab_type": "code",
        "colab": {}
      },
      "source": [
        "import numpy as np\n",
        "import warnings\n",
        "import pandas as pd\n",
        "import math\n",
        "from pandas import read_csv,DataFrame\n",
        "from keras.models import Sequential\n",
        "from keras.layers import Dense,LSTM,MaxPooling1D,Dropout,AveragePooling1D\n",
        "from keras.layers.convolutional import Conv1D\n",
        "from keras import optimizers\n",
        "from sklearn.preprocessing import MinMaxScaler,StandardScaler\n",
        "from sklearn.metrics import mean_squared_error,mean_absolute_error\n",
        "import matplotlib.pyplot as plt\n",
        "import time\n",
        "\n",
        "epoch=16\n",
        "LR=0.0005\n",
        "\n",
        "model=Sequential()\n",
        "model.add(Conv1D(filters=32, kernel_size=5, padding='same', activation='relu',input_shape=(None,1)))#,input_shape=(None,1)\n",
        "#model.add(MaxPooling1D(pool_size=2,strides=2))\n",
        "model.add(Conv1D(filters=64,kernel_size=3,padding='valid',activation='relu'))\n",
        "model.add(LSTM(units=100, return_sequences=False))\n",
        "#model.add(LSTM(units=100, recurrent_dropout=0.1,return_sequences=True))\n",
        "#model.add(LSTM(units=80,return_sequences=False))\n",
        "model.add(Dropout(0.1))\n",
        "# linear activation: a(x) = x\n",
        "model.add(Dense(activation='linear', units=1)) \n",
        "\n",
        "# compile the model\n",
        "rmsprop = optimizers.RMSprop(LR)\n",
        "model.compile(loss=\"mse\", optimizer=rmsprop)\n",
        "\n",
        "#global_start_time = time.time()   \n",
        "#print('Training duration (s) : ', time.time() - global_start_time)\n",
        "\n",
        "    #trainPredict = model.predict(trainX)\n",
        "    \n",
        "#return test_rmse,testPredict,testY,history,mape,test_mae"
      ],
      "execution_count": 0,
      "outputs": []
    },
    {
      "cell_type": "code",
      "metadata": {
        "id": "2qYYsmCYG5oN",
        "colab_type": "code",
        "colab": {}
      },
      "source": [
        "def plt_result(y_test,predicted_values):\n",
        "    fig = plt.figure()\n",
        "    plt.plot(y_test, 'o-')\n",
        "    plt.plot(predicted_values[1:], 'o-')\n",
        "    plt.xlabel('Time')\n",
        "    plt.ylabel('Price')\n",
        "    plt.legend(['True', 'Predict'], loc='upper left')\n",
        "    plt.show()"
      ],
      "execution_count": 0,
      "outputs": []
    },
    {
      "cell_type": "code",
      "metadata": {
        "id": "8zAYXvrhHFro",
        "colab_type": "code",
        "colab": {}
      },
      "source": [
        "def MAPE(predict,true):\n",
        "    L1=int(true.shape[0])\n",
        "    L2=int(predict.shape[0])\n",
        "    #print(L1,   L2)\n",
        "    if L1==L2:\n",
        "        #SUM1=sum(abs(true-predict)/abs(true))\n",
        "        SUM=0.0\n",
        "        for i in range(L1-1):\n",
        "            SUM=(abs(true[i]-predict[i+1])/true[i])+SUM\n",
        "        per_SUM=SUM*100.0\n",
        "        mape=per_SUM/L1\n",
        "        return mape\n",
        "    else:\n",
        "        print(\"error\")"
      ],
      "execution_count": 0,
      "outputs": []
    },
    {
      "cell_type": "code",
      "metadata": {
        "id": "CPgId5hoaNxs",
        "colab_type": "code",
        "outputId": "095087e1-770c-4d95-a372-84ea799baf64",
        "colab": {
          "base_uri": "https://localhost:8080/",
          "height": 578
        }
      },
      "source": [
        "history=model.fit(trainX,trainY,epochs=epoch,batch_size=64,validation_split=0.05,verbose=1)"
      ],
      "execution_count": 0,
      "outputs": [
        {
          "output_type": "stream",
          "text": [
            "Train on 8310 samples, validate on 438 samples\n",
            "Epoch 1/16\n",
            "8310/8310 [==============================] - 5s 553us/step - loss: 0.1850 - val_loss: 0.0100\n",
            "Epoch 2/16\n",
            "8310/8310 [==============================] - 3s 301us/step - loss: 0.0741 - val_loss: 0.0093\n",
            "Epoch 3/16\n",
            "8310/8310 [==============================] - 3s 303us/step - loss: 0.0661 - val_loss: 0.0065\n",
            "Epoch 4/16\n",
            "8310/8310 [==============================] - 3s 306us/step - loss: 0.0586 - val_loss: 0.0062\n",
            "Epoch 5/16\n",
            "8310/8310 [==============================] - 3s 306us/step - loss: 0.0542 - val_loss: 0.0094\n",
            "Epoch 6/16\n",
            "8310/8310 [==============================] - 3s 317us/step - loss: 0.0545 - val_loss: 0.0055\n",
            "Epoch 7/16\n",
            "8310/8310 [==============================] - 3s 320us/step - loss: 0.0539 - val_loss: 0.0051\n",
            "Epoch 8/16\n",
            "8310/8310 [==============================] - 3s 326us/step - loss: 0.0535 - val_loss: 0.0053\n",
            "Epoch 9/16\n",
            "8310/8310 [==============================] - 3s 320us/step - loss: 0.0495 - val_loss: 0.0051\n",
            "Epoch 10/16\n",
            "8310/8310 [==============================] - 3s 312us/step - loss: 0.0494 - val_loss: 0.0049\n",
            "Epoch 11/16\n",
            "8310/8310 [==============================] - 3s 306us/step - loss: 0.0497 - val_loss: 0.0048\n",
            "Epoch 12/16\n",
            "8310/8310 [==============================] - 3s 307us/step - loss: 0.0484 - val_loss: 0.0048\n",
            "Epoch 13/16\n",
            "8310/8310 [==============================] - 3s 302us/step - loss: 0.0480 - val_loss: 0.0051\n",
            "Epoch 14/16\n",
            "8310/8310 [==============================] - 2s 300us/step - loss: 0.0467 - val_loss: 0.0057\n",
            "Epoch 15/16\n",
            "8310/8310 [==============================] - 2s 300us/step - loss: 0.0467 - val_loss: 0.0047\n",
            "Epoch 16/16\n",
            "8310/8310 [==============================] - 3s 305us/step - loss: 0.0476 - val_loss: 0.0048\n"
          ],
          "name": "stdout"
        }
      ]
    },
    {
      "cell_type": "code",
      "metadata": {
        "id": "d23NUT-OHJY7",
        "colab_type": "code",
        "outputId": "ca0ac6b1-20c2-4720-b0d4-a891aea2847d",
        "colab": {
          "base_uri": "https://localhost:8080/",
          "height": 334
        }
      },
      "source": [
        "#scaler=StandardScaler(copy=True,with_mean=True,with_std=True)\n",
        "np.random.seed(7)\n",
        "#test_rmse, predicted_values, y_test, history, mape,MAE=LSTM_model(dataframe,)\n",
        "#Test_start = time.time()\n",
        "i = 875\n",
        "j = 923\n",
        "#print(testX.shape)\n",
        "testPredict = model.predict(testX[i:j])\n",
        "#print('Testing duration (s) : ', time.time() - Test_start)  \n",
        "\n",
        "testPredict = scaler.inverse_transform(testPredict)\n",
        "#print(testPredict)\n",
        "#print(testY.shape)\n",
        "test_Y = scaler.inverse_transform([testY[i:j]])\n",
        "test_Y=np.reshape(test_Y,(-1,1))    \n",
        "#print(testY)\n",
        "test_rmse = math.sqrt( mean_squared_error(test_Y[:,0], testPredict[:, 0]))\n",
        "test_mae=mean_absolute_error(test_Y[:,0], testPredict[:, 0])\n",
        "\n",
        "mape=MAPE(testPredict,test_Y[:]) \n",
        "plt_result(test_Y,testPredict)\n",
        "\n",
        " \n",
        "print('RMSE:',test_rmse)\n",
        "print('MAPE:',mape)\n",
        "print('MAE:',test_mae)"
      ],
      "execution_count": 0,
      "outputs": [
        {
          "output_type": "display_data",
          "data": {
            "image/png": "[encoded data removed]",
            "text/plain": [
              "<Figure size 432x288 with 1 Axes>"
            ]
          },
          "metadata": {
            "tags": []
          }
        },
        {
          "output_type": "stream",
          "text": [
            "RMSE: 6.808256454998684\n",
            "MAPE: [4.788414]\n",
            "MAE: 4.4134054\n"
          ],
          "name": "stdout"
        }
      ]
    }
  ]
}