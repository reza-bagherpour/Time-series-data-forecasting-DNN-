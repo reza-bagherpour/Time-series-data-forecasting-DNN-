{
 "cells": [
  {
   "cell_type": "code",
   "execution_count": null,
   "metadata": {
    "colab": {},
    "colab_type": "code",
    "id": "1aNYQgSpCUwS"
   },
   "outputs": [],
   "source": [
    "import pandas as pd  \n",
    "import numpy as np  \n",
    "import matplotlib.pyplot as plt  \n",
    "%matplotlib inline"
   ]
  },
  {
   "cell_type": "code",
   "execution_count": null,
   "metadata": {
    "colab": {
     "base_uri": "https://localhost:8080/",
     "height": 52
    },
    "colab_type": "code",
    "id": "TMEn3tQAu9Uo",
    "outputId": "8dac0750-0383-4077-87ab-2fc18e3d59d8"
   },
   "outputs": [],
   "source": [
    "! unzip data.zip -d ."
   ]
  },
  {
   "cell_type": "code",
   "execution_count": null,
   "metadata": {
    "colab": {
     "base_uri": "https://localhost:8080/",
     "height": 34
    },
    "colab_type": "code",
    "id": "kxg290DwEeZn",
    "outputId": "76ba117b-4c4d-4fef-99d2-08e65e36ab81"
   },
   "outputs": [],
   "source": [
    "import pandas as pd\n",
    "excel_file = 'data(one_hot).csv'\n",
    "Data = pd.read_csv(excel_file)\n",
    "Data.TO[114643]"
   ]
  },
  {
   "cell_type": "markdown",
   "metadata": {
    "colab_type": "text",
    "id": "9uiqRqH9t0zh"
   },
   "source": [
    "# **Feature extraction**"
   ]
  },
  {
   "cell_type": "code",
   "execution_count": null,
   "metadata": {
    "colab": {},
    "colab_type": "code",
    "id": "HqvA5apySh6I"
   },
   "outputs": [],
   "source": [
    "list1=[]\n",
    "for i in range(len(Data)):\n",
    "    list1.append(i)\n",
    "Data['k']=list1\n",
    "# save the dataframe to CSV\n",
    "Data.to_csv('data(pre_onehot).csv')\n"
   ]
  },
  {
   "cell_type": "code",
   "execution_count": null,
   "metadata": {
    "colab": {},
    "colab_type": "code",
    "id": "hTHB5n6UWbw_"
   },
   "outputs": [],
   "source": [
    "month1, month2, month3, month4, month5, month6, month7, month8, month9, month10, month11, month12 =[], [], [], [], [], [], [], [], [], [], [], []\n",
    "\n",
    "\n",
    "for i in range(len(Data)):\n",
    "  if(Data['month_of_year'][i]==1):\n",
    "    month1.append(1)\n",
    "    month2.append(0)\n",
    "    month3.append(0)\n",
    "    month4.append(0)\n",
    "    month5.append(0)\n",
    "    month6.append(0)\n",
    "    month7.append(0)\n",
    "    month8.append(0)\n",
    "    month9.append(0)\n",
    "    month10.append(0)\n",
    "    month11.append(0)\n",
    "    month12.append(0)\n",
    "  elif(Data['month_of_year'][i]==2):\n",
    "    month1.append(0)\n",
    "    month2.append(1)\n",
    "    month3.append(0)\n",
    "    month4.append(0)\n",
    "    month5.append(0)\n",
    "    month6.append(0)\n",
    "    month7.append(0)\n",
    "    month8.append(0)\n",
    "    month9.append(0)\n",
    "    month10.append(0)\n",
    "    month11.append(0)\n",
    "    month12.append(0)\n",
    "  elif(Data['month_of_year'][i]==3):\n",
    "    month1.append(0)\n",
    "    month2.append(0)\n",
    "    month3.append(1)\n",
    "    month4.append(0)\n",
    "    month5.append(0)\n",
    "    month6.append(0)\n",
    "    month7.append(0)\n",
    "    month8.append(0)\n",
    "    month9.append(0)\n",
    "    month10.append(0)\n",
    "    month11.append(0)\n",
    "    month12.append(0)\n",
    "  elif(Data['month_of_year'][i]==4):\n",
    "    month1.append(0)\n",
    "    month2.append(0)\n",
    "    month3.append(0)\n",
    "    month4.append(1)\n",
    "    month5.append(0)\n",
    "    month6.append(0)\n",
    "    month7.append(0)\n",
    "    month8.append(0)\n",
    "    month9.append(0)\n",
    "    month10.append(0)\n",
    "    month11.append(0)\n",
    "    month12.append(0)\n",
    "  elif(Data['month_of_year'][i]==5):\n",
    "    month1.append(0)\n",
    "    month2.append(0)\n",
    "    month3.append(0)\n",
    "    month4.append(0)\n",
    "    month5.append(1)\n",
    "    month6.append(0)\n",
    "    month7.append(0)\n",
    "    month8.append(0)\n",
    "    month9.append(0)\n",
    "    month10.append(0)\n",
    "    month11.append(0)\n",
    "    month12.append(0)\n",
    "  elif(Data['month_of_year'][i]==6):\n",
    "    month1.append(0)\n",
    "    month2.append(0)\n",
    "    month3.append(0)\n",
    "    month4.append(0)\n",
    "    month5.append(0)\n",
    "    month6.append(1)\n",
    "    month7.append(0)\n",
    "    month8.append(0)\n",
    "    month9.append(0)\n",
    "    month10.append(0)\n",
    "    month11.append(0)\n",
    "    month12.append(0)\n",
    "  elif(Data['month_of_year'][i]==7):\n",
    "    month1.append(0)\n",
    "    month2.append(0)\n",
    "    month3.append(0)\n",
    "    month4.append(0)\n",
    "    month5.append(0)\n",
    "    month6.append(0)\n",
    "    month7.append(1)\n",
    "    month8.append(0)\n",
    "    month9.append(0)\n",
    "    month10.append(0)\n",
    "    month11.append(0)\n",
    "    month12.append(0)\n",
    "  elif(Data['month_of_year'][i]==8):\n",
    "    month1.append(0)\n",
    "    month2.append(0)\n",
    "    month3.append(0)\n",
    "    month4.append(0)\n",
    "    month5.append(0)\n",
    "    month6.append(0)\n",
    "    month7.append(0)\n",
    "    month8.append(1)\n",
    "    month9.append(0)\n",
    "    month10.append(0)\n",
    "    month11.append(0)\n",
    "    month12.append(0)\n",
    "  elif(Data['month_of_year'][i]==9):\n",
    "    month1.append(0)\n",
    "    month2.append(0)\n",
    "    month3.append(0)\n",
    "    month4.append(0)\n",
    "    month5.append(0)\n",
    "    month6.append(0)\n",
    "    month7.append(0)\n",
    "    month8.append(0)\n",
    "    month9.append(1)\n",
    "    month10.append(0)\n",
    "    month11.append(0)\n",
    "    month12.append(0)\n",
    "  elif(Data['month_of_year'][i]==10):\n",
    "    month1.append(0)\n",
    "    month2.append(0)\n",
    "    month3.append(0)\n",
    "    month4.append(0)\n",
    "    month5.append(0)\n",
    "    month6.append(0)\n",
    "    month7.append(0)\n",
    "    month8.append(0)\n",
    "    month9.append(0)\n",
    "    month10.append(1)\n",
    "    month11.append(0)\n",
    "    month12.append(0)\n",
    "  elif(Data['month_of_year'][i]==11):\n",
    "    month1.append(0)\n",
    "    month2.append(0)\n",
    "    month3.append(0)\n",
    "    month4.append(0)\n",
    "    month5.append(0)\n",
    "    month6.append(0)\n",
    "    month7.append(0)\n",
    "    month8.append(0)\n",
    "    month9.append(0)\n",
    "    month10.append(0)\n",
    "    month11.append(1)\n",
    "    month12.append(0)\n",
    "  elif(Data['month_of_year'][i]==12):\n",
    "    month1.append(0)\n",
    "    month2.append(0)\n",
    "    month3.append(0)\n",
    "    month4.append(0)\n",
    "    month5.append(0)\n",
    "    month6.append(0)\n",
    "    month7.append(0)\n",
    "    month8.append(0)\n",
    "    month9.append(0)\n",
    "    month10.append(0)\n",
    "    month11.append(0)\n",
    "    month12.append(1)\n",
    "Data['1th_month_of_year']=month1\n",
    "Data['2th_month_of_year']=month2\n",
    "Data['3th_month_of_year']=month3\n",
    "Data['4th_month_of_year']=month4\n",
    "Data['5th_month_of_year']=month5\n",
    "Data['6th_month_of_year']=month6\n",
    "Data['7th_month_of_year']=month7\n",
    "Data['8th_month_of_year']=month8\n",
    "Data['9th_month_of_year']=month9\n",
    "Data['10th_month_of_year']=month10\n",
    "Data['11th_month_of_year']=month11\n",
    "Data['12th_month_of_year']=month12\n",
    "Data.to_csv('data(pre_onehot).csv')"
   ]
  },
  {
   "cell_type": "code",
   "execution_count": null,
   "metadata": {
    "colab": {},
    "colab_type": "code",
    "id": "M9ZGrmwzjQUT"
   },
   "outputs": [],
   "source": [
    "day1, day2, day3, day4, day5, day6, day7= [], [], [], [], [], [], []\n",
    "\n",
    "for j in range(len(Data)):\n",
    "  if(Data['day_of_week(N)'][j]==1):\n",
    "    day1.append(1)\n",
    "    day2.append(0)\n",
    "    day3.append(0)\n",
    "    day4.append(0)\n",
    "    day5.append(0)\n",
    "    day6.append(0)\n",
    "    day7.append(0)\n",
    "  elif(Data['day_of_week(N)'][j]==2):\n",
    "    day1.append(0)\n",
    "    day2.append(1)\n",
    "    day3.append(0)\n",
    "    day4.append(0)\n",
    "    day5.append(0)\n",
    "    day6.append(0)\n",
    "    day7.append(0)\n",
    "  elif(Data['day_of_week(N)'][j]==3):\n",
    "    day1.append(0)\n",
    "    day2.append(0)\n",
    "    day3.append(1)\n",
    "    day4.append(0)\n",
    "    day5.append(0)\n",
    "    day6.append(0)\n",
    "    day7.append(0)\n",
    "  elif(Data['day_of_week(N)'][j]==4):\n",
    "    day1.append(0)\n",
    "    day2.append(0)\n",
    "    day3.append(0)\n",
    "    day4.append(1)\n",
    "    day5.append(0)\n",
    "    day6.append(0)\n",
    "    day7.append(0)\n",
    "  elif(Data['day_of_week(N)'][j]==5):\n",
    "    day1.append(0)\n",
    "    day2.append(0)\n",
    "    day3.append(0)\n",
    "    day4.append(0)\n",
    "    day5.append(1)\n",
    "    day6.append(0)\n",
    "    day7.append(0)\n",
    "  elif(Data['day_of_week(N)'][j]==5):\n",
    "    day1.append(0)\n",
    "    day2.append(0)\n",
    "    day3.append(0)\n",
    "    day4.append(0)\n",
    "    day5.append(1)\n",
    "    day6.append(0)\n",
    "    day7.append(0)\n",
    "  elif(Data['day_of_week(N)'][j]==6):\n",
    "    day1.append(0)\n",
    "    day2.append(0)\n",
    "    day3.append(0)\n",
    "    day4.append(0)\n",
    "    day5.append(0)\n",
    "    day6.append(1)\n",
    "    day7.append(0) \n",
    "  elif(Data['day_of_week(N)'][j]==7):\n",
    "    day1.append(0)\n",
    "    day2.append(0)\n",
    "    day3.append(0)\n",
    "    day4.append(0)\n",
    "    day5.append(0)\n",
    "    day6.append(0)\n",
    "    day7.append(1)"
   ]
  },
  {
   "cell_type": "code",
   "execution_count": null,
   "metadata": {
    "colab": {},
    "colab_type": "code",
    "id": "kvwmcBwLkEzh"
   },
   "outputs": [],
   "source": [
    "Data['1th_day_of_week']=day1\n",
    "Data['2th_day_of_week']=day2\n",
    "Data['3th_day_of_week']=day3\n",
    "Data['4th_day_of_week']=day4\n",
    "Data['5th_day_of_week']=day5\n",
    "Data['6th_day_of_week']=day6\n",
    "Data['7th_day_of_week']=day7\n",
    "Data.to_csv('data(pre_onehot).csv')"
   ]
  },
  {
   "cell_type": "code",
   "execution_count": null,
   "metadata": {
    "colab": {},
    "colab_type": "code",
    "id": "eu8tdiUbmQll"
   },
   "outputs": [],
   "source": [
    "used = set()\n",
    "mylist = Data['FROM']\n",
    "unique1 = [x for x in mylist if x not in used and (used.add(x) or True)]\n",
    "\n",
    "\n",
    "\n",
    "\n",
    "used2= set()\n",
    "mylist2 = Data['TO']\n",
    "unique2 = [x for x in mylist2 if x not in used2 and (used2.add(x) or True)]\n"
   ]
  },
  {
   "cell_type": "code",
   "execution_count": null,
   "metadata": {
    "colab": {
     "base_uri": "https://localhost:8080/",
     "height": 238
    },
    "colab_type": "code",
    "id": "eSVCVVjvmXi8",
    "outputId": "2f911a2f-0a0c-4c12-8e65-393b0d07db3b"
   },
   "outputs": [],
   "source": [
    "w, h = 0, 56;\n",
    "sourses = [[0 for x in range(w)] for y in range(h)] \n",
    "\n",
    "for k in range(len(Data)):\n",
    "  for j in range(len(unique1)):\n",
    "    if(Data['FROM'][k]==unique1[j]):\n",
    "      sourses[j].append(1)\n",
    "      for i in range(len(sourses)):\n",
    "        if i==j:\n",
    "          continue\n",
    "        sourses[i].append(0)\n",
    "\n",
    "  #elif(Data['day_of_week(N)'][j]==2):\n",
    "   \n",
    "len(sourses[0])"
   ]
  },
  {
   "cell_type": "code",
   "execution_count": null,
   "metadata": {
    "colab": {},
    "colab_type": "code",
    "id": "XDUybZpH46d2"
   },
   "outputs": [],
   "source": [
    "Data['1th_source']=sourses[0]\n",
    "Data['2th_source']=sourses[1]\n",
    "Data['3th_source']=sourses[2]\n",
    "Data['4th_source']=sourses[3]\n",
    "Data['5th_source']=sourses[4]\n",
    "Data['6th_source']=sourses[5]\n",
    "Data['7th_source']=sourses[6]\n",
    "Data['8th_source']=sourses[7]\n",
    "Data['9th_source']=sourses[8]\n",
    "Data['10th_source']=sourses[9]\n",
    "Data['11th_source']=sourses[10]\n",
    "Data['12th_source']=sourses[11]\n",
    "Data['13th_source']=sourses[12]\n",
    "Data['14th_source']=sourses[13]\n",
    "Data['15th_source']=sourses[14]\n",
    "Data['16th_source']=sourses[15]\n",
    "Data['17th_source']=sourses[16]\n",
    "Data['18th_source']=sourses[17]\n",
    "Data['19th_source']=sourses[18]\n",
    "Data['20th_source']=sourses[19]\n",
    "Data['21th_source']=sourses[20]\n",
    "Data['22th_source']=sourses[21]\n",
    "Data['23th_source']=sourses[22]\n",
    "Data['24th_source']=sourses[23]\n",
    "Data['25th_source']=sourses[24]\n",
    "Data['26th_source']=sourses[25]\n",
    "Data['27th_source']=sourses[26]\n",
    "Data['28th_source']=sourses[27]\n",
    "Data['29th_source']=sourses[28]\n",
    "Data['30th_source']=sourses[29]\n",
    "Data['31th_source']=sourses[30]\n",
    "Data['32th_source']=sourses[31]\n",
    "Data['33th_source']=sourses[32]\n",
    "Data['34th_source']=sourses[33]\n",
    "Data['35th_source']=sourses[34]\n",
    "Data['36th_source']=sourses[35]\n",
    "Data['37th_source']=sourses[36]\n",
    "Data['38th_source']=sourses[37]\n",
    "Data['39th_source']=sourses[38]\n",
    "Data['40th_source']=sourses[39]\n",
    "Data['41th_source']=sourses[40]\n",
    "Data['42th_source']=sourses[41]\n",
    "Data['43th_source']=sourses[42]\n",
    "Data['44th_source']=sourses[43]\n",
    "Data['45th_source']=sourses[44]\n",
    "Data['46th_source']=sourses[45]\n",
    "Data['47th_source']=sourses[46]\n",
    "Data['48th_source']=sourses[47]\n",
    "Data['49th_source']=sourses[48]\n",
    "Data['50th_source']=sourses[49]\n",
    "Data['51th_source']=sourses[50]\n",
    "Data['52th_source']=sourses[51]\n",
    "Data['53th_source']=sourses[52]\n",
    "Data['54th_source']=sourses[53]\n",
    "Data['55th_source']=sourses[54]\n",
    "Data['56th_source']=sourses[55]\n",
    "Data.to_csv('data(pre_onehot).csv')"
   ]
  },
  {
   "cell_type": "code",
   "execution_count": null,
   "metadata": {
    "colab": {
     "base_uri": "https://localhost:8080/",
     "height": 34
    },
    "colab_type": "code",
    "id": "uEB7n23d6fCM",
    "outputId": "17fc7f2e-2268-4474-c17c-44395ed2e7ca"
   },
   "outputs": [],
   "source": [
    "w, h = 0, 55;\n",
    "destinations = [[0 for x in range(w)] for y in range(h)] \n",
    "\n",
    "for k in range(len(Data)):\n",
    "  for j in range(len(unique2)):\n",
    "    if(Data['TO'][k]==unique2[j]):\n",
    "      destinations[j].append(1)\n",
    "      for i in range(len(destinations)):\n",
    "        if i==j:\n",
    "          continue\n",
    "        destinations[i].append(0)\n",
    "\n",
    "  #elif(Data['day_of_week(N)'][j]==2):\n",
    "   \n",
    "len(destinations[0])"
   ]
  },
  {
   "cell_type": "code",
   "execution_count": null,
   "metadata": {
    "colab": {},
    "colab_type": "code",
    "id": "hT-UlIp_68hy"
   },
   "outputs": [],
   "source": [
    "Data['1th_Dest']=destinations[0]\n",
    "Data['2th_Dest']=destinations[1]\n",
    "Data['3th_Dest']=destinations[2]\n",
    "Data['4th_Dest']=destinations[3]\n",
    "Data['5th_Dest']=destinations[4]\n",
    "Data['6th_Dest']=destinations[5]\n",
    "Data['7th_Dest']=destinations[6]\n",
    "Data['8th_Dest']=destinations[7]\n",
    "Data['9th_Dest']=destinations[8]\n",
    "Data['10th_Dest']=destinations[9]\n",
    "Data['11th_Dest']=destinations[10]\n",
    "Data['12th_Dest']=destinations[11]\n",
    "Data['13th_Dest']=destinations[12]\n",
    "Data['14th_Dest']=destinations[13]\n",
    "Data['15th_Dest']=destinations[14]\n",
    "Data['16th_Dest']=destinations[15]\n",
    "Data['17th_Dest']=destinations[16]\n",
    "Data['18th_Dest']=destinations[17]\n",
    "Data['19th_Dest']=destinations[18]\n",
    "Data['20th_Dest']=destinations[19]\n",
    "Data['21th_Dest']=destinations[20]\n",
    "Data['22th_Dest']=destinations[21]\n",
    "Data['23th_Dest']=destinations[22]\n",
    "Data['24th_Dest']=destinations[23]\n",
    "Data['25th_Dest']=destinations[24]\n",
    "Data['26th_Dest']=destinations[25]\n",
    "Data['27th_Dest']=destinations[26]\n",
    "Data['28th_Dest']=destinations[27]\n",
    "Data['29th_Dest']=destinations[28]\n",
    "Data['30th_Dest']=destinations[29]\n",
    "Data['31th_Dest']=destinations[30]\n",
    "Data['32th_Dest']=destinations[31]\n",
    "Data['33th_Dest']=destinations[32]\n",
    "Data['34th_Dest']=destinations[33]\n",
    "Data['35th_Dest']=destinations[34]\n",
    "Data['36th_Dest']=destinations[35]\n",
    "Data['37th_Dest']=destinations[36]\n",
    "Data['38th_Dest']=destinations[37]\n",
    "Data['39th_Dest']=destinations[38]\n",
    "Data['40th_Dest']=destinations[39]\n",
    "Data['41th_Dest']=destinations[40]\n",
    "Data['42th_Dest']=destinations[41]\n",
    "Data['43th_Dest']=destinations[42]\n",
    "Data['44th_Dest']=destinations[43]\n",
    "Data['45th_Dest']=destinations[44]\n",
    "Data['46th_Dest']=destinations[45]\n",
    "Data['47th_Dest']=destinations[46]\n",
    "Data['48th_Dest']=destinations[47]\n",
    "Data['49th_Dest']=destinations[48]\n",
    "Data['50th_Dest']=destinations[49]\n",
    "Data['51th_Dest']=destinations[50]\n",
    "Data['52th_Dest']=destinations[51]\n",
    "Data['53th_Dest']=destinations[52]\n",
    "Data['54th_Dest']=destinations[53]\n",
    "Data['55th_Dest']=destinations[54]\n",
    "Data.to_csv('data(pre_onehot).csv')"
   ]
  },
  {
   "cell_type": "markdown",
   "metadata": {
    "colab_type": "text",
    "id": "h-10XFpzucKX"
   },
   "source": [
    "# loading New dataset "
   ]
  },
  {
   "cell_type": "code",
   "execution_count": null,
   "metadata": {
    "colab": {},
    "colab_type": "code",
    "id": "q2pVTQC-ZA6F"
   },
   "outputs": [],
   "source": [
    "\n",
    "Count=[]\n",
    "\n",
    "for i in range(len(Data)):\n",
    "  if(Data['FROM'][i]==3.0 and Data['TO'][i]==70.0):\n",
    "    Count.append(Data['Count'][i])\n",
    "  \n",
    "    \n",
    "Data1['Count']=Count      \n",
    "\n",
    "Data1.to_csv('New_Data.csv')"
   ]
  },
  {
   "cell_type": "code",
   "execution_count": null,
   "metadata": {
    "colab": {
     "base_uri": "https://localhost:8080/",
     "height": 244
    },
    "colab_type": "code",
    "id": "3KOARdS3qwEN",
    "outputId": "90c21cd7-dc94-4ce8-fb9b-4d146b216c84"
   },
   "outputs": [],
   "source": [
    "import pandas as pd\n",
    "excel_file = 'New_Data.csv'\n",
    "Data = pd.read_csv(excel_file)\n",
    "Data.head()"
   ]
  },
  {
   "cell_type": "code",
   "execution_count": null,
   "metadata": {
    "colab": {},
    "colab_type": "code",
    "id": "grlNzxSwB-7Y"
   },
   "outputs": [],
   "source": [
    "Data.drop(['Unnamed: 0','Unnamed: 0.1', 'Unnamed: 0.1.1', 'Unnamed: 0.1.1.1', 'Unnamed: 0.1.1.1.1'],axis=1,inplace=True )\n",
    "Data.drop(['0'],axis=1,inplace=True )"
   ]
  },
  {
   "cell_type": "code",
   "execution_count": null,
   "metadata": {
    "colab": {
     "base_uri": "https://localhost:8080/",
     "height": 226
    },
    "colab_type": "code",
    "id": "vXk54ah6CK6G",
    "outputId": "1b1dd8f4-1319-4ec1-94f4-1eee28008b7e"
   },
   "outputs": [],
   "source": [
    "Data.head()"
   ]
  },
  {
   "cell_type": "markdown",
   "metadata": {
    "colab_type": "text",
    "id": "mPBq9mYlywNN"
   },
   "source": [
    "#Showing data "
   ]
  },
  {
   "cell_type": "code",
   "execution_count": null,
   "metadata": {
    "colab": {
     "base_uri": "https://localhost:8080/",
     "height": 379
    },
    "colab_type": "code",
    "id": "rZAo3iHwyrCN",
    "outputId": "47f76494-b954-4a9c-a89b-1fdcd312e748"
   },
   "outputs": [],
   "source": [
    "import matplotlib.pyplot as plt\n",
    "\n",
    "train_data = Data.Count[0:600]\n",
    "test_data = Data.Count[600:730]\n",
    "Data.Count.plot()\n",
    "plt.legend ([\"Train\", \"Test\"])\n",
    "\n",
    "plt.show()\n",
    "train_data.head()"
   ]
  },
  {
   "cell_type": "markdown",
   "metadata": {
    "colab_type": "text",
    "id": "Q0nsCVdApJYU"
   },
   "source": [
    "# **convert series to supervised learning**"
   ]
  },
  {
   "cell_type": "code",
   "execution_count": null,
   "metadata": {
    "colab": {},
    "colab_type": "code",
    "id": "cUQ22qNwL-Iv"
   },
   "outputs": [],
   "source": [
    "# convert series to supervised learning\n",
    "from pandas import DataFrame\n",
    "from pandas import concat\n",
    "def series_to_supervised(data, n_in=1, n_out=1, dropnan=True):\n",
    "\tn_vars = 1 if type(data) is list else data.shape[1]\n",
    "\tdf = DataFrame(data)\n",
    "\tcols, names = list(), list()\n",
    "\t# input sequence (t-n, ... t-1)\n",
    "\tfor i in range(n_in, 0, -1):\n",
    "\t\tcols.append(df.shift(i))\n",
    "\t\tnames += [('var%d(t-%d)' % (j+1, i)) for j in range(n_vars)]\n",
    "\t# forecast sequence (t, t+1, ... t+n)\n",
    "\tfor i in range(0, n_out):\n",
    "\t\tcols.append(df.shift(-i))\n",
    "\t\tif i == 0:\n",
    "\t\t\tnames += [('var%d(t)' % (j+1)) for j in range(n_vars)]\n",
    "\t\telse:\n",
    "\t\t\tnames += [('var%d(t+%d)' % (j+1, i)) for j in range(n_vars)]\n",
    "\t# put it all together\n",
    "\tagg = concat(cols, axis=1)\n",
    "\tagg.columns = names\n",
    "\t# drop rows with NaN values\n",
    "\tif dropnan:\n",
    "\t\tagg.dropna(inplace=True)\n",
    "\treturn agg"
   ]
  },
  {
   "cell_type": "code",
   "execution_count": null,
   "metadata": {
    "colab": {
     "base_uri": "https://localhost:8080/",
     "height": 54
    },
    "colab_type": "code",
    "id": "GaJSntSiS9ah",
    "outputId": "8737b326-0aef-403f-ce47-cc10476a599e"
   },
   "outputs": [],
   "source": [
    "import matplotlib.pyplot as plt\n",
    "  \n",
    "#train_data=Data[0:600]\n",
    "#test_data=Data[600:730]\n",
    "\n",
    "values =Data.values\n",
    "values = values[:,1:].astype('float32')\n",
    "\n",
    "from sklearn.preprocessing import MinMaxScaler \n",
    "import numpy as np\n",
    "scaler = MinMaxScaler(feature_range = (0, 1)).fit(values.reshape(-1, 1))\n",
    "\n",
    "values = scaler.transform(values)\n",
    "print(values.shape)\n",
    "reformed = series_to_supervised(values)\n",
    "values= reformed.values\n",
    "#print (\"train_scaled.shape :\", train_scaled.shape)\n",
    "#print (\"test_scaled.shape :\", test_scaled.shape)\n",
    "train = values[0:600]\n",
    "test = values[600:730]\n",
    "\n",
    "Train_X, Train_Y= train[:,1:-1], train[:,-1]\n",
    "train_x , train_y = train[:,1:-1], train[:,-1]\n",
    "Test_X, Test_Y= test[:,1:-1], test[:,-1]\n",
    "test_x, test_y = test[:,1:-1], test[:,-1]\n",
    "print(Train_X.shape, Train_Y.shape, Test_X.shape, Test_Y.shape )"
   ]
  },
  {
   "cell_type": "markdown",
   "metadata": {
    "colab_type": "text",
    "id": "J4xVixttpYxX"
   },
   "source": [
    "# **Train and test data extraction**"
   ]
  },
  {
   "cell_type": "code",
   "execution_count": null,
   "metadata": {
    "colab": {
     "base_uri": "https://localhost:8080/",
     "height": 54
    },
    "colab_type": "code",
    "id": "vn8FwsrQFzmp",
    "outputId": "cf1f30c2-d040-43a4-b7ef-d5bdf14e8b63"
   },
   "outputs": [],
   "source": [
    "print('before reshape:',Train_X.shape)\n",
    "Train_X = Train_X.reshape((Train_X.shape[0], 1, Train_X.shape[1]))\n",
    "Test_X = Test_X.reshape((Test_X.shape[0], 1, Test_X.shape[1]))\n",
    "\n",
    "print('after reshape:', Train_X.shape, Train_Y.shape, Test_X.shape, Test_Y.shape )"
   ]
  },
  {
   "cell_type": "markdown",
   "metadata": {
    "colab_type": "text",
    "id": "kEgcyg8bppHw"
   },
   "source": [
    "# **Using LSTM mosel to predict**"
   ]
  },
  {
   "cell_type": "code",
   "execution_count": null,
   "metadata": {
    "colab": {
     "base_uri": "https://localhost:8080/",
     "height": 476
    },
    "colab_type": "code",
    "id": "ldTpm3vbSvtG",
    "outputId": "5d467011-a251-4a70-d0a3-f7e7bb06b941"
   },
   "outputs": [],
   "source": [
    "from keras.models import Sequential  \n",
    "from keras.layers import Dense  \n",
    "from keras.layers import LSTM  \n",
    "from keras.layers import Dropout  \n",
    "\n",
    "model = Sequential()\n",
    "model.add(LSTM(units=50, return_sequences=True, input_shape=(Train_X.shape[1], Train_X.shape[2])))\n",
    "model.add(Dropout(0.2))\n",
    "\n",
    "model.add(LSTM(units=50, return_sequences=True))  \n",
    "model.add(Dropout(0.2))\n",
    "\n",
    "model.add(LSTM(units=50, return_sequences=True))  \n",
    "model.add(Dropout(0.2))\n",
    "\n",
    "model.add(LSTM(units=50))  \n",
    "model.add(Dropout(0.2))\n",
    "\n",
    "# we have a single output so this layer has 1 unit\n",
    "model.add(Dense(units = 1))\n",
    "\n",
    "model.summary()"
   ]
  },
  {
   "cell_type": "markdown",
   "metadata": {
    "colab_type": "text",
    "id": "K5sRf1bOp4Xs"
   },
   "source": [
    "# **LSTM model training**"
   ]
  },
  {
   "cell_type": "code",
   "execution_count": null,
   "metadata": {
    "colab": {
     "base_uri": "https://localhost:8080/",
     "height": 1000
    },
    "colab_type": "code",
    "id": "k63aGWIDT9x0",
    "outputId": "8e3240f7-08d8-4359-950d-fcc187ff667e"
   },
   "outputs": [],
   "source": [
    "model.compile(optimizer = 'adam', loss = 'mean_squared_error', metrics=['mse'])\n",
    "\n",
    "history = model.fit(Train_X, Train_Y, epochs = 30, batch_size = 10)"
   ]
  },
  {
   "cell_type": "markdown",
   "metadata": {
    "colab_type": "text",
    "id": "TPaPxZOjqU67"
   },
   "source": [
    "# **LSTM prediction for LSTM**"
   ]
  },
  {
   "cell_type": "code",
   "execution_count": null,
   "metadata": {
    "colab": {
     "base_uri": "https://localhost:8080/",
     "height": 336
    },
    "colab_type": "code",
    "id": "cmg1kAJITDLr",
    "outputId": "1fbd5c58-b225-4cfe-a296-11508adb6542"
   },
   "outputs": [],
   "source": [
    "predictions = model.predict(Test_X)\n",
    "predictions = scaler.inverse_transform(predictions)  \n",
    "plt.figure(figsize=(15,5))\n",
    "plt.plot(Data.values[600:730][:,-1], color='blue', label='Actual number of passengers')  \n",
    "plt.plot(predictions , color='red', label='Predicted number of passengers')  \n",
    "plt.title('number of passengers Prediction on Test Set')    \n",
    "plt.ylabel('number of passengers')  \n",
    "plt.legend()  \n",
    "plt.show()"
   ]
  },
  {
   "cell_type": "markdown",
   "metadata": {
    "colab_type": "text",
    "id": "4lQPEfj_w5Tt"
   },
   "source": [
    "# **LSTM model test RMSE**"
   ]
  },
  {
   "cell_type": "code",
   "execution_count": null,
   "metadata": {
    "colab": {
     "base_uri": "https://localhost:8080/",
     "height": 35
    },
    "colab_type": "code",
    "id": "Y-gfhsv1RxHu",
    "outputId": "b4b3780b-d43c-46fe-f705-fa935d8a9a11"
   },
   "outputs": [],
   "source": [
    "from numpy import concatenate\n",
    "from math import sqrt\n",
    "from sklearn.metrics import mean_squared_error\n",
    "\n",
    "yhat = model.predict(Test_X)\n",
    "#inv_yhat = scaler.inverse_transform(yhat)\n",
    "\n",
    "rmse = sqrt(metrics.mean_squared_error(test_y, yhat[:,0]))\n",
    "print('Test RMSE: %.3f' % rmse)\n"
   ]
  },
  {
   "cell_type": "markdown",
   "metadata": {
    "colab_type": "text",
    "id": "v1Ni6OCjxnkE"
   },
   "source": [
    "# **RandomForest Regressor training on data**"
   ]
  },
  {
   "cell_type": "code",
   "execution_count": null,
   "metadata": {
    "colab": {
     "base_uri": "https://localhost:8080/",
     "height": 202
    },
    "colab_type": "code",
    "id": "4MMefr4GU0OR",
    "outputId": "25858502-88ca-45b5-d297-2412eb6c8855"
   },
   "outputs": [],
   "source": [
    "from sklearn.ensemble import RandomForestRegressor\n",
    "model1 = RandomForestRegressor()\n",
    "model1.fit(train_x, train_y)"
   ]
  },
  {
   "cell_type": "markdown",
   "metadata": {
    "colab_type": "text",
    "id": "HK7_elG0yIOw"
   },
   "source": [
    "# **RandomForest Regressor model test RMSE**"
   ]
  },
  {
   "cell_type": "code",
   "execution_count": null,
   "metadata": {
    "colab": {
     "base_uri": "https://localhost:8080/",
     "height": 35
    },
    "colab_type": "code",
    "id": "mwS_r_5anvNK",
    "outputId": "3b40154d-0d88-481a-b89d-d7a54963717d"
   },
   "outputs": [],
   "source": [
    "import math\n",
    "import sklearn.metrics as metrics\n",
    "y_hat = model1.predict(test_x)\n",
    "rmse1 = sqrt(metrics.mean_squared_error(test_y, y_hat))\n",
    "print('Test RMSE: %.3f' % rmse1)"
   ]
  },
  {
   "cell_type": "markdown",
   "metadata": {
    "colab_type": "text",
    "id": "x7_uBlfIySnm"
   },
   "source": [
    "# **RandomForest Regressor  test prediction**"
   ]
  },
  {
   "cell_type": "code",
   "execution_count": null,
   "metadata": {
    "colab": {
     "base_uri": "https://localhost:8080/",
     "height": 336
    },
    "colab_type": "code",
    "id": "6ncLeyBR_R--",
    "outputId": "cb517182-5599-479f-d4a0-b017b4c42d25"
   },
   "outputs": [],
   "source": [
    "predictions = model1.predict(test_x)\n",
    "predictions=predictions.reshape(-1, 1)\n",
    "predictions = scaler.inverse_transform(predictions)\n",
    "\n",
    "\n",
    "\n",
    "plt.figure(figsize=(15,5))\n",
    "plt.plot(Data.values[600:730][:,-1], color='blue', label='Actual number of passengers')  \n",
    "plt.plot(predictions , color='red', label='Predicted number of passengers')  \n",
    "plt.title('number of passengers Prediction on Test Set')    \n",
    "plt.ylabel('number of passengers')  \n",
    "plt.legend()  \n",
    "plt.show()"
   ]
  },
  {
   "cell_type": "markdown",
   "metadata": {
    "colab_type": "text",
    "id": "CqUK97FazKgP"
   },
   "source": [
    "# **CNN+LSTM Model for training**"
   ]
  },
  {
   "cell_type": "code",
   "execution_count": null,
   "metadata": {
    "colab": {
     "base_uri": "https://localhost:8080/",
     "height": 54
    },
    "colab_type": "code",
    "id": "MAUmXqgx6hOs",
    "outputId": "7bcb6b46-16a5-49e7-da16-614be14f03c9"
   },
   "outputs": [],
   "source": [
    "from sklearn.preprocessing import MinMaxScaler \n",
    "import numpy as np\n",
    "scaler = MinMaxScaler(feature_range = (0, 1)).fit(train_data.values.reshape(-1, 1))\n",
    "\n",
    "train_scaled = scaler.transform(train_data.values.reshape(-1, 1))\n",
    "test_scaled = scaler.transform(test_data.values.reshape(-1, 1))  \n",
    "\n",
    "print (\"train_scaled.shape :\", train_scaled.shape)\n",
    "print (\"test_scaled.shape :\", test_scaled.shape)\n",
    "\n"
   ]
  },
  {
   "cell_type": "code",
   "execution_count": null,
   "metadata": {
    "colab": {},
    "colab_type": "code",
    "id": "D43kx4oF6uQh"
   },
   "outputs": [],
   "source": [
    "train_features_set = []  \n",
    "train_labels = []  \n",
    "for i in range(60, train_scaled.shape[0]):  \n",
    "    train_features_set.append(train_scaled[i-60:i, 0])\n",
    "    train_labels.append(train_scaled[i, 0])"
   ]
  },
  {
   "cell_type": "code",
   "execution_count": null,
   "metadata": {
    "colab": {},
    "colab_type": "code",
    "id": "mhYj3U_n60w_"
   },
   "outputs": [],
   "source": [
    "train_features_set, train_labels = np.array(train_features_set), np.array(train_labels)\n",
    "train_features_set = np.reshape(train_features_set, (train_features_set.shape[0], train_features_set.shape[1], 1))"
   ]
  },
  {
   "cell_type": "code",
   "execution_count": null,
   "metadata": {
    "colab": {
     "base_uri": "https://localhost:8080/",
     "height": 550
    },
    "colab_type": "code",
    "id": "ZZk-r0PH65NM",
    "outputId": "ff2f1431-943d-40a1-fdfc-90f3a2dd2aed"
   },
   "outputs": [],
   "source": [
    "from keras.models import Sequential  \n",
    "from keras.layers import Dense  \n",
    "from keras.layers import LSTM, Conv1D  \n",
    "from keras.layers import Dropout  \n",
    "\n",
    "\n",
    "\n",
    "model = Sequential()\n",
    "\n",
    "model.add(Conv1D(filters=32, kernel_size=5, padding='same', activation='relu', input_shape=(None,1)))\n",
    "model.add(Conv1D(filters=32, kernel_size=3, padding='same', activation='relu'))\n",
    "\n",
    "model.add(LSTM(units=50, return_sequences=True))\n",
    "model.add(Dropout(0.2))\n",
    "\n",
    "model.add(LSTM(units=50, return_sequences=True))  \n",
    "model.add(Dropout(0.2))\n",
    "\n",
    "model.add(LSTM(units=50, return_sequences=True))  \n",
    "model.add(Dropout(0.2))\n",
    "\n",
    "model.add(LSTM(units=50))  \n",
    "model.add(Dropout(0.2))\n",
    "\n",
    "# we have a single output so this layer has 1 unit\n",
    "model.add(Dense(units = 1))\n",
    "\n",
    "model.summary()\n",
    "\n",
    "\n",
    "\n"
   ]
  },
  {
   "cell_type": "markdown",
   "metadata": {
    "colab_type": "text",
    "id": "VBAkmkSO0JA-"
   },
   "source": [
    "# **CNN+LSTM training**"
   ]
  },
  {
   "cell_type": "code",
   "execution_count": null,
   "metadata": {
    "colab": {
     "base_uri": "https://localhost:8080/",
     "height": 1000
    },
    "colab_type": "code",
    "id": "S4VT4zKb0GhQ",
    "outputId": "9b5e6efd-adae-499e-d6b1-9560f3987c03"
   },
   "outputs": [],
   "source": [
    "model.compile(optimizer = 'adam', loss = 'mean_squared_error')\n",
    "\n",
    "model.fit(train_features_set, train_labels, epochs = 30,batch_size = 10)"
   ]
  },
  {
   "cell_type": "code",
   "execution_count": null,
   "metadata": {
    "colab": {},
    "colab_type": "code",
    "id": "YCuCbIEA9yzO"
   },
   "outputs": [],
   "source": [
    "test_scaled = scaler.transform(test_data.values.reshape(-1, 1))  \n",
    "\n",
    "test_features_set = []  \n",
    "for i in range(60, test_scaled.shape[0]):  \n",
    "    test_features_set.append(test_scaled[i-60:i, 0])\n",
    "    \n",
    "test_features_set = np.array(test_features_set)  \n",
    "test_features_set = np.reshape(test_features_set, (test_features_set.shape[0], test_features_set.shape[1], 1))"
   ]
  },
  {
   "cell_type": "markdown",
   "metadata": {
    "colab_type": "text",
    "id": "I5najTbozcx_"
   },
   "source": [
    "# **CNN+LSTM prediction on test**"
   ]
  },
  {
   "cell_type": "code",
   "execution_count": null,
   "metadata": {
    "colab": {
     "base_uri": "https://localhost:8080/",
     "height": 281
    },
    "colab_type": "code",
    "id": "qXJdyYom96L-",
    "outputId": "ca9c58be-98c1-4594-cd7e-84c5a87f169e"
   },
   "outputs": [],
   "source": [
    "predictions = model.predict(test_features_set)\n",
    "predictions = scaler.inverse_transform(predictions)  \n",
    "  \n",
    "plt.plot(test_data.values[60:], color='blue', label='Actual number of passengers')  \n",
    "plt.plot(predictions , color='red', label='Predicted Actual number of passengers')  \n",
    "plt.title('Actual number of passengers Prediction on Test Set')    \n",
    "plt.ylabel('Actual number of passengers')  \n",
    "plt.legend()  \n",
    "plt.show()"
   ]
  }
 ],
 "metadata": {
  "accelerator": "GPU",
  "colab": {
   "collapsed_sections": [],
   "name": "Untitled6.ipynb",
   "provenance": [],
   "version": "0.3.2"
  },
  "kernelspec": {
   "display_name": "Python 3",
   "language": "python",
   "name": "python3"
  },
  "language_info": {
   "codemirror_mode": {
    "name": "ipython",
    "version": 3
   },
   "file_extension": ".py",
   "mimetype": "text/x-python",
   "name": "python",
   "nbconvert_exporter": "python",
   "pygments_lexer": "ipython3",
   "version": "3.5.5"
  }
 },
 "nbformat": 4,
 "nbformat_minor": 1
}
